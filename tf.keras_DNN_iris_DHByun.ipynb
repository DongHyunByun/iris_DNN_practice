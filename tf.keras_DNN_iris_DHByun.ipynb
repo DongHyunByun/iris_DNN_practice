{
 "cells": [
  {
   "cell_type": "code",
   "execution_count": 1,
   "metadata": {},
   "outputs": [
    {
     "name": "stderr",
     "output_type": "stream",
     "text": [
      "C:\\anaconda\\lib\\site-packages\\ipykernel_launcher.py:10: FutureWarning: Method .as_matrix will be removed in a future version. Use .values instead.\n",
      "  # Remove the CWD from sys.path while we load stuff.\n"
     ]
    }
   ],
   "source": [
    "import numpy as np\n",
    "import pandas as pd\n",
    "import tensorflow as tf\n",
    "from tensorflow.keras import layers  \n",
    "\n",
    "# 같은 디렉토리에 iris.csv파일 불러오기\n",
    "csv = pd.read_csv(\"iris.csv\")\n",
    "\n",
    "# 판다스의 csv모듈\n",
    "X = csv[[\"sepal_length\", \"sepal_width\",\"petal_length\",\"petal_width\"]].as_matrix()\n",
    "\n",
    "# 클래스 레이블 (one hot coding용)\n",
    "bclass = {\"Iris-virginica\":[1,0,0], \"Iris-setosa\":[0,1,0], \"Iris-versicolor\":[0,0,1]}\n",
    "y = np.empty((150,3))     \n",
    "# i는 index(숫자), v는 label의 원자값(문자열)들어감 \n",
    "for i, v in enumerate(csv[\"iris_type\"]): \n",
    "    y[i] = bclass[v]                 \n",
    "\n",
    "# 훈련 전용 데이터와 테스트 전용 데이터로 나누기 (train데이터 100개, test데이터 50개)\n",
    "X_train, y_train = X[0:100], y[0:100]\n",
    "X_test,  y_test  = X[100:150], y[100:150]"
   ]
  },
  {
   "cell_type": "code",
   "execution_count": 2,
   "metadata": {},
   "outputs": [],
   "source": [
    "#순차적 계층화 준비\n",
    "model = tf.keras.Sequential()  \n",
    "\n",
    "# -------------------input node:4, hidden node:15---------------------------\n",
    "model.add(layers.Dense(15, input_shape=(4,)))  \n",
    "model.add(layers.Activation('relu'))  \n",
    "model.add(layers.Dropout(0.1))        \n",
    "\n",
    "# ------------------------hidden node : 15-------------------------------------\n",
    "model.add(layers.Dense(15))       \n",
    "model.add(layers.Activation('relu'))\n",
    "model.add(layers.Dropout(0.1))\n",
    "\n",
    "#-------------------------output node : 3-------------------------------------\n",
    "model.add(layers.Dense(3))\n",
    "model.add(layers.Activation('softmax')) \n",
    "\n",
    "# 모델 구축하기\n",
    "model.compile(\n",
    "    loss='categorical_crossentropy',  #다중 교차엔트로피\n",
    "    optimizer=\"rmsprop\",   #최적화 기법 중 하나\n",
    "    metrics=['accuracy'])  #정확도 측정"
   ]
  },
  {
   "cell_type": "code",
   "execution_count": 3,
   "metadata": {
    "scrolled": false
   },
   "outputs": [
    {
     "name": "stdout",
     "output_type": "stream",
     "text": [
      "50/1 [============================================================================================================================================================================================================================================================================================================================================================================================================================================================================================================================================================================================================================================================================================================================================================================================================================================================================================================================================================================================================================================================================================================================================================================================================================================================================================================================================================================================================================================================================================================================================================] - 0s 80us/sample - loss: 0.0780 - accuracy: 1.0000\n",
      "test_loss:  0.04654120326042175\n",
      "test_acc:  1.0\n"
     ]
    }
   ],
   "source": [
    "#데이터 훈련\n",
    "'''\n",
    "batch_size       : 몇번마다 수정할 것인가.\n",
    "epochs           : 최대 몇번 반복할 것인가(early stopping에 걸릴 수 있음)\n",
    "valdiation_split : 데이터가 잘 학습되었는지 확인 (training set에서 몇프로 만큼?)\n",
    "callbacks        : moniotr(val_loss혹은 val_accuracy) 가 patience만큼 개선되지 않으면 종료\n",
    "verbose          : 0:미출력, 1:개선되는과정 출력, 2:매 에포크마다 출력\n",
    "'''\n",
    "hist = model.fit(\n",
    "    X_train, y_train,\n",
    "    batch_size=30,  \n",
    "    epochs=8000,    \n",
    "    validation_split=0.2,  \n",
    "    callbacks=[tf.keras.callbacks.EarlyStopping(monitor='val_loss', patience=500)],  \n",
    "    verbose=0) \n",
    "\n",
    "# 테스트 데이터로 평가하기 \n",
    "score = model.evaluate(X_test, y_test)\n",
    "print('test_loss: ', score[0])\n",
    "print('test_acc: ', score[1])"
   ]
  },
  {
   "cell_type": "code",
   "execution_count": 4,
   "metadata": {},
   "outputs": [
    {
     "name": "stdout",
     "output_type": "stream",
     "text": [
      "Model: \"sequential\"\n",
      "_________________________________________________________________\n",
      "Layer (type)                 Output Shape              Param #   \n",
      "=================================================================\n",
      "dense (Dense)                (None, 15)                75        \n",
      "_________________________________________________________________\n",
      "activation (Activation)      (None, 15)                0         \n",
      "_________________________________________________________________\n",
      "dropout (Dropout)            (None, 15)                0         \n",
      "_________________________________________________________________\n",
      "dense_1 (Dense)              (None, 15)                240       \n",
      "_________________________________________________________________\n",
      "activation_1 (Activation)    (None, 15)                0         \n",
      "_________________________________________________________________\n",
      "dropout_1 (Dropout)          (None, 15)                0         \n",
      "_________________________________________________________________\n",
      "dense_2 (Dense)              (None, 3)                 48        \n",
      "_________________________________________________________________\n",
      "activation_2 (Activation)    (None, 3)                 0         \n",
      "=================================================================\n",
      "Total params: 363\n",
      "Trainable params: 363\n",
      "Non-trainable params: 0\n",
      "_________________________________________________________________\n"
     ]
    }
   ],
   "source": [
    "model.summary()"
   ]
  },
  {
   "cell_type": "code",
   "execution_count": 7,
   "metadata": {},
   "outputs": [
    {
     "data": {
      "image/png": "[encoded data removed]",
      "text/plain": [
       "<Figure size 432x288 with 2 Axes>"
      ]
     },
     "metadata": {
      "needs_background": "light"
     },
     "output_type": "display_data"
    }
   ],
   "source": [
    "import matplotlib.pyplot as plt\n",
    "\n",
    "fig, loss_ax = plt.subplots()\n",
    "\n",
    "acc_ax = loss_ax.twinx()\n",
    "\n",
    "loss_ax.plot(hist.history['loss'], 'y', label='train loss')\n",
    "loss_ax.plot(hist.history['val_loss'], 'r', label='val loss')\n",
    "\n",
    "acc_ax.plot(hist.history['accuracy'], 'b', label='train acc')\n",
    "acc_ax.plot(hist.history['val_accuracy'], 'g', label='val acc')\n",
    "\n",
    "loss_ax.set_xlabel('epoch')\n",
    "loss_ax.set_ylabel('loss')\n",
    "acc_ax.set_ylabel('accuray')\n",
    "\n",
    "loss_ax.legend(loc='upper left')\n",
    "acc_ax.legend(loc='lower left')\n",
    "\n",
    "plt.show()"
   ]
  },
  {
   "cell_type": "code",
   "execution_count": 6,
   "metadata": {},
   "outputs": [
    {
     "name": "stdout",
     "output_type": "stream",
     "text": [
      "[[0.0000000e+00 9.9999928e-01 6.6396944e-07]]\n",
      "[1]\n"
     ]
    }
   ],
   "source": [
    "# 인풋값이 다음과 같은 sample이 존재\n",
    "sample=[[5.7, 3.8, 1.7, 0.3]]\n",
    "\n",
    "# 각 클래스 레이블일 확률은?\n",
    "y_pred_prob = model.predict_proba(sample)\n",
    "print(y_pred_prob)\n",
    "\n",
    "# 확률이 가장 높은 클래스는?\n",
    "y_pred_class=model.predict_classes(sample)\n",
    "print(y_pred_class)"
   ]
  }
 ],
 "metadata": {
  "kernelspec": {
   "display_name": "Python 3",
   "language": "python",
   "name": "python3"
  },
  "language_info": {
   "codemirror_mode": {
    "name": "ipython",
    "version": 3
   },
   "file_extension": ".py",
   "mimetype": "text/x-python",
   "name": "python",
   "nbconvert_exporter": "python",
   "pygments_lexer": "ipython3",
   "version": "3.7.3"
  }
 },
 "nbformat": 4,
 "nbformat_minor": 2
}
